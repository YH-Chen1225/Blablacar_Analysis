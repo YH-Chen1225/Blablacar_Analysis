{
 "cells": [
  {
   "cell_type": "code",
   "execution_count": 14,
   "metadata": {},
   "outputs": [],
   "source": [
    "import pandas as pd\n",
    "df = pd.read_excel('C:\\\\Users\\\\ua896\\\\Downloads\\\\Blablacar data_Paris-Lyon_individual projects_page.xlsx')"
   ]
  },
  {
   "cell_type": "code",
   "execution_count": 15,
   "metadata": {},
   "outputs": [
    {
     "data": {
      "text/html": [
       "<div>\n",
       "<style scoped>\n",
       "    .dataframe tbody tr th:only-of-type {\n",
       "        vertical-align: middle;\n",
       "    }\n",
       "\n",
       "    .dataframe tbody tr th {\n",
       "        vertical-align: top;\n",
       "    }\n",
       "\n",
       "    .dataframe thead th {\n",
       "        text-align: right;\n",
       "    }\n",
       "</style>\n",
       "<table border=\"1\" class=\"dataframe\">\n",
       "  <thead>\n",
       "    <tr style=\"text-align: right;\">\n",
       "      <th></th>\n",
       "      <th>driverid</th>\n",
       "      <th>offerid</th>\n",
       "      <th>departure</th>\n",
       "      <th>arrival</th>\n",
       "      <th>tripdistance</th>\n",
       "      <th>offer date</th>\n",
       "      <th>departure date</th>\n",
       "      <th>price</th>\n",
       "      <th>nboffers</th>\n",
       "      <th>photo</th>\n",
       "      <th>...</th>\n",
       "      <th>minpricedepd</th>\n",
       "      <th>meanpricedepd</th>\n",
       "      <th>sdpricedepd</th>\n",
       "      <th>seatsincar</th>\n",
       "      <th>seatsold</th>\n",
       "      <th>firstname</th>\n",
       "      <th>driver country</th>\n",
       "      <th>nbevaluation</th>\n",
       "      <th>age</th>\n",
       "      <th>gender</th>\n",
       "    </tr>\n",
       "  </thead>\n",
       "  <tbody>\n",
       "    <tr>\n",
       "      <th>0</th>\n",
       "      <td>10</td>\n",
       "      <td>20</td>\n",
       "      <td>Paris</td>\n",
       "      <td>Lyon</td>\n",
       "      <td>462</td>\n",
       "      <td>2013-09-27</td>\n",
       "      <td>2013-10-06 10:30:00</td>\n",
       "      <td>25</td>\n",
       "      <td>629</td>\n",
       "      <td>0</td>\n",
       "      <td>...</td>\n",
       "      <td>15</td>\n",
       "      <td>29.266666</td>\n",
       "      <td>3.397481</td>\n",
       "      <td>0</td>\n",
       "      <td>0</td>\n",
       "      <td>A</td>\n",
       "      <td>NaN</td>\n",
       "      <td>1</td>\n",
       "      <td>28</td>\n",
       "      <td>1</td>\n",
       "    </tr>\n",
       "    <tr>\n",
       "      <th>1</th>\n",
       "      <td>19</td>\n",
       "      <td>95</td>\n",
       "      <td>Lyon</td>\n",
       "      <td>Paris</td>\n",
       "      <td>435</td>\n",
       "      <td>2013-09-09</td>\n",
       "      <td>2013-09-13 11:30:00</td>\n",
       "      <td>30</td>\n",
       "      <td>731</td>\n",
       "      <td>0</td>\n",
       "      <td>...</td>\n",
       "      <td>19</td>\n",
       "      <td>29.657675</td>\n",
       "      <td>3.256854</td>\n",
       "      <td>6</td>\n",
       "      <td>0</td>\n",
       "      <td>A</td>\n",
       "      <td>NaN</td>\n",
       "      <td>0</td>\n",
       "      <td>52</td>\n",
       "      <td>0</td>\n",
       "    </tr>\n",
       "    <tr>\n",
       "      <th>2</th>\n",
       "      <td>19</td>\n",
       "      <td>98</td>\n",
       "      <td>Paris</td>\n",
       "      <td>Lyon</td>\n",
       "      <td>464</td>\n",
       "      <td>2013-09-13</td>\n",
       "      <td>2013-09-15 10:30:00</td>\n",
       "      <td>30</td>\n",
       "      <td>721</td>\n",
       "      <td>0</td>\n",
       "      <td>...</td>\n",
       "      <td>17</td>\n",
       "      <td>29.499228</td>\n",
       "      <td>3.109686</td>\n",
       "      <td>6</td>\n",
       "      <td>0</td>\n",
       "      <td>A</td>\n",
       "      <td>NaN</td>\n",
       "      <td>0</td>\n",
       "      <td>52</td>\n",
       "      <td>0</td>\n",
       "    </tr>\n",
       "    <tr>\n",
       "      <th>3</th>\n",
       "      <td>19</td>\n",
       "      <td>96</td>\n",
       "      <td>Lyon</td>\n",
       "      <td>Paris</td>\n",
       "      <td>511</td>\n",
       "      <td>2013-11-10</td>\n",
       "      <td>2013-11-12 10:00:00</td>\n",
       "      <td>49</td>\n",
       "      <td>801</td>\n",
       "      <td>0</td>\n",
       "      <td>...</td>\n",
       "      <td>15</td>\n",
       "      <td>29.816593</td>\n",
       "      <td>3.125596</td>\n",
       "      <td>6</td>\n",
       "      <td>1</td>\n",
       "      <td>A</td>\n",
       "      <td>NaN</td>\n",
       "      <td>2</td>\n",
       "      <td>52</td>\n",
       "      <td>0</td>\n",
       "    </tr>\n",
       "    <tr>\n",
       "      <th>4</th>\n",
       "      <td>19</td>\n",
       "      <td>97</td>\n",
       "      <td>Lyon</td>\n",
       "      <td>Paris</td>\n",
       "      <td>516</td>\n",
       "      <td>2014-01-25</td>\n",
       "      <td>2014-01-26 15:50:00</td>\n",
       "      <td>48</td>\n",
       "      <td>757</td>\n",
       "      <td>0</td>\n",
       "      <td>...</td>\n",
       "      <td>20</td>\n",
       "      <td>29.101709</td>\n",
       "      <td>3.698978</td>\n",
       "      <td>6</td>\n",
       "      <td>2</td>\n",
       "      <td>A</td>\n",
       "      <td>NaN</td>\n",
       "      <td>2</td>\n",
       "      <td>52</td>\n",
       "      <td>0</td>\n",
       "    </tr>\n",
       "    <tr>\n",
       "      <th>5</th>\n",
       "      <td>75</td>\n",
       "      <td>180</td>\n",
       "      <td>Lyon</td>\n",
       "      <td>Paris</td>\n",
       "      <td>462</td>\n",
       "      <td>2014-02-13</td>\n",
       "      <td>2014-02-15 07:30:00</td>\n",
       "      <td>30</td>\n",
       "      <td>830</td>\n",
       "      <td>0</td>\n",
       "      <td>...</td>\n",
       "      <td>18</td>\n",
       "      <td>31.129770</td>\n",
       "      <td>4.218365</td>\n",
       "      <td>2</td>\n",
       "      <td>0</td>\n",
       "      <td>Aa</td>\n",
       "      <td>NaN</td>\n",
       "      <td>3</td>\n",
       "      <td>31</td>\n",
       "      <td>1</td>\n",
       "    </tr>\n",
       "    <tr>\n",
       "      <th>6</th>\n",
       "      <td>77</td>\n",
       "      <td>182</td>\n",
       "      <td>Paris</td>\n",
       "      <td>Lyon</td>\n",
       "      <td>505</td>\n",
       "      <td>2014-02-08</td>\n",
       "      <td>2014-02-15 18:30:00</td>\n",
       "      <td>30</td>\n",
       "      <td>795</td>\n",
       "      <td>0</td>\n",
       "      <td>...</td>\n",
       "      <td>22</td>\n",
       "      <td>30.206667</td>\n",
       "      <td>3.469679</td>\n",
       "      <td>0</td>\n",
       "      <td>0</td>\n",
       "      <td>Aa</td>\n",
       "      <td>NaN</td>\n",
       "      <td>3</td>\n",
       "      <td>36</td>\n",
       "      <td>1</td>\n",
       "    </tr>\n",
       "    <tr>\n",
       "      <th>7</th>\n",
       "      <td>78</td>\n",
       "      <td>183</td>\n",
       "      <td>Lyon</td>\n",
       "      <td>Paris</td>\n",
       "      <td>704</td>\n",
       "      <td>2014-02-13</td>\n",
       "      <td>2014-02-15 07:30:00</td>\n",
       "      <td>30</td>\n",
       "      <td>782</td>\n",
       "      <td>0</td>\n",
       "      <td>...</td>\n",
       "      <td>18</td>\n",
       "      <td>31.129770</td>\n",
       "      <td>4.218365</td>\n",
       "      <td>0</td>\n",
       "      <td>0</td>\n",
       "      <td>Aa</td>\n",
       "      <td>NaN</td>\n",
       "      <td>3</td>\n",
       "      <td>41</td>\n",
       "      <td>1</td>\n",
       "    </tr>\n",
       "    <tr>\n",
       "      <th>8</th>\n",
       "      <td>79</td>\n",
       "      <td>184</td>\n",
       "      <td>Lyon</td>\n",
       "      <td>Paris</td>\n",
       "      <td>462</td>\n",
       "      <td>2014-02-01</td>\n",
       "      <td>2014-02-03 10:50:00</td>\n",
       "      <td>30</td>\n",
       "      <td>783</td>\n",
       "      <td>1</td>\n",
       "      <td>...</td>\n",
       "      <td>15</td>\n",
       "      <td>29.367088</td>\n",
       "      <td>2.745852</td>\n",
       "      <td>3</td>\n",
       "      <td>0</td>\n",
       "      <td>Aa</td>\n",
       "      <td>NaN</td>\n",
       "      <td>0</td>\n",
       "      <td>26</td>\n",
       "      <td>0</td>\n",
       "    </tr>\n",
       "    <tr>\n",
       "      <th>9</th>\n",
       "      <td>145</td>\n",
       "      <td>269</td>\n",
       "      <td>Lyon</td>\n",
       "      <td>Paris</td>\n",
       "      <td>461</td>\n",
       "      <td>2014-01-27</td>\n",
       "      <td>2014-01-31 03:20:00</td>\n",
       "      <td>30</td>\n",
       "      <td>759</td>\n",
       "      <td>0</td>\n",
       "      <td>...</td>\n",
       "      <td>10</td>\n",
       "      <td>29.156155</td>\n",
       "      <td>3.246992</td>\n",
       "      <td>3</td>\n",
       "      <td>0</td>\n",
       "      <td>Abba</td>\n",
       "      <td>jewish</td>\n",
       "      <td>0</td>\n",
       "      <td>33</td>\n",
       "      <td>0</td>\n",
       "    </tr>\n",
       "  </tbody>\n",
       "</table>\n",
       "<p>10 rows × 31 columns</p>\n",
       "</div>"
      ],
      "text/plain": [
       "   driverid  offerid departure arrival  tripdistance offer date  \\\n",
       "0        10       20     Paris    Lyon           462 2013-09-27   \n",
       "1        19       95      Lyon   Paris           435 2013-09-09   \n",
       "2        19       98     Paris    Lyon           464 2013-09-13   \n",
       "3        19       96      Lyon   Paris           511 2013-11-10   \n",
       "4        19       97      Lyon   Paris           516 2014-01-25   \n",
       "5        75      180      Lyon   Paris           462 2014-02-13   \n",
       "6        77      182     Paris    Lyon           505 2014-02-08   \n",
       "7        78      183      Lyon   Paris           704 2014-02-13   \n",
       "8        79      184      Lyon   Paris           462 2014-02-01   \n",
       "9       145      269      Lyon   Paris           461 2014-01-27   \n",
       "\n",
       "       departure date  price  nboffers  photo  ...  minpricedepd  \\\n",
       "0 2013-10-06 10:30:00     25       629      0  ...            15   \n",
       "1 2013-09-13 11:30:00     30       731      0  ...            19   \n",
       "2 2013-09-15 10:30:00     30       721      0  ...            17   \n",
       "3 2013-11-12 10:00:00     49       801      0  ...            15   \n",
       "4 2014-01-26 15:50:00     48       757      0  ...            20   \n",
       "5 2014-02-15 07:30:00     30       830      0  ...            18   \n",
       "6 2014-02-15 18:30:00     30       795      0  ...            22   \n",
       "7 2014-02-15 07:30:00     30       782      0  ...            18   \n",
       "8 2014-02-03 10:50:00     30       783      1  ...            15   \n",
       "9 2014-01-31 03:20:00     30       759      0  ...            10   \n",
       "\n",
       "   meanpricedepd  sdpricedepd  seatsincar  seatsold  firstname  \\\n",
       "0      29.266666     3.397481           0         0          A   \n",
       "1      29.657675     3.256854           6         0          A   \n",
       "2      29.499228     3.109686           6         0          A   \n",
       "3      29.816593     3.125596           6         1          A   \n",
       "4      29.101709     3.698978           6         2          A   \n",
       "5      31.129770     4.218365           2         0         Aa   \n",
       "6      30.206667     3.469679           0         0         Aa   \n",
       "7      31.129770     4.218365           0         0         Aa   \n",
       "8      29.367088     2.745852           3         0         Aa   \n",
       "9      29.156155     3.246992           3         0       Abba   \n",
       "\n",
       "   driver country  nbevaluation  age  gender  \n",
       "0             NaN             1   28       1  \n",
       "1             NaN             0   52       0  \n",
       "2             NaN             0   52       0  \n",
       "3             NaN             2   52       0  \n",
       "4             NaN             2   52       0  \n",
       "5             NaN             3   31       1  \n",
       "6             NaN             3   36       1  \n",
       "7             NaN             3   41       1  \n",
       "8             NaN             0   26       0  \n",
       "9          jewish             0   33       0  \n",
       "\n",
       "[10 rows x 31 columns]"
      ]
     },
     "execution_count": 15,
     "metadata": {},
     "output_type": "execute_result"
    }
   ],
   "source": [
    "df.head(10)"
   ]
  },
  {
   "cell_type": "code",
   "execution_count": 16,
   "metadata": {},
   "outputs": [
    {
     "data": {
      "text/plain": [
       "driverid                 0\n",
       "offerid                  0\n",
       "departure                0\n",
       "arrival                  0\n",
       "tripdistance             0\n",
       "offer date               0\n",
       "departure date           0\n",
       "price                    0\n",
       "nboffers                 0\n",
       "photo                    0\n",
       "driverstatus             0\n",
       "music                    0\n",
       "talk                     0\n",
       "pet                      0\n",
       "smoking                  0\n",
       "manualreservation        0\n",
       "roundtrip                0\n",
       "carrating                0\n",
       "detourtime               0\n",
       "pageview                 0\n",
       "maxpricedepd             0\n",
       "minpricedepd             0\n",
       "meanpricedepd            0\n",
       "sdpricedepd             12\n",
       "seatsincar               0\n",
       "seatsold                 0\n",
       "firstname                0\n",
       "driver country       10962\n",
       "nbevaluation             0\n",
       "age                      0\n",
       "gender                   0\n",
       "dtype: int64"
      ]
     },
     "execution_count": 16,
     "metadata": {},
     "output_type": "execute_result"
    }
   ],
   "source": [
    "df.isna().sum()"
   ]
  },
  {
   "cell_type": "code",
   "execution_count": 17,
   "metadata": {},
   "outputs": [
    {
     "name": "stdout",
     "output_type": "stream",
     "text": [
      "<class 'pandas.core.frame.DataFrame'>\n",
      "RangeIndex: 97625 entries, 0 to 97624\n",
      "Data columns (total 31 columns):\n",
      " #   Column             Non-Null Count  Dtype         \n",
      "---  ------             --------------  -----         \n",
      " 0   driverid           97625 non-null  int64         \n",
      " 1   offerid            97625 non-null  int64         \n",
      " 2   departure          97625 non-null  object        \n",
      " 3   arrival            97625 non-null  object        \n",
      " 4   tripdistance       97625 non-null  int64         \n",
      " 5   offer date         97625 non-null  datetime64[ns]\n",
      " 6   departure date     97625 non-null  datetime64[ns]\n",
      " 7   price              97625 non-null  int64         \n",
      " 8   nboffers           97625 non-null  int64         \n",
      " 9   photo              97625 non-null  int64         \n",
      " 10  driverstatus       97625 non-null  int64         \n",
      " 11  music              97625 non-null  int64         \n",
      " 12  talk               97625 non-null  int64         \n",
      " 13  pet                97625 non-null  int64         \n",
      " 14  smoking            97625 non-null  int64         \n",
      " 15  manualreservation  97625 non-null  int64         \n",
      " 16  roundtrip          97625 non-null  int64         \n",
      " 17  carrating          97625 non-null  int64         \n",
      " 18  detourtime         97625 non-null  int64         \n",
      " 19  pageview           97625 non-null  int64         \n",
      " 20  maxpricedepd       97625 non-null  int64         \n",
      " 21  minpricedepd       97625 non-null  int64         \n",
      " 22  meanpricedepd      97625 non-null  float64       \n",
      " 23  sdpricedepd        97613 non-null  float64       \n",
      " 24  seatsincar         97625 non-null  int64         \n",
      " 25  seatsold           97625 non-null  int64         \n",
      " 26  firstname          97625 non-null  object        \n",
      " 27  driver country     86663 non-null  object        \n",
      " 28  nbevaluation       97625 non-null  int64         \n",
      " 29  age                97625 non-null  int64         \n",
      " 30  gender             97625 non-null  int64         \n",
      "dtypes: datetime64[ns](2), float64(2), int64(23), object(4)\n",
      "memory usage: 23.1+ MB\n"
     ]
    }
   ],
   "source": [
    "df.info()"
   ]
  },
  {
   "cell_type": "code",
   "execution_count": 18,
   "metadata": {
    "scrolled": true
   },
   "outputs": [
    {
     "name": "stdout",
     "output_type": "stream",
     "text": [
      "Lyon     49602\n",
      "Paris    48023\n",
      "Name: departure, dtype: int64\n"
     ]
    }
   ],
   "source": [
    "#Conver to dummy\n",
    "print(df['departure'].value_counts())\n",
    "\n",
    "df = pd.get_dummies(df,columns = ['departure'],prefix = 'depart')\n",
    "df = pd.get_dummies(df, columns = ['arrival'], prefix ='arrive')"
   ]
  },
  {
   "cell_type": "code",
   "execution_count": 23,
   "metadata": {},
   "outputs": [
    {
     "data": {
      "text/plain": [
       "Index(['tripdistance', 'price', 'nboffers', 'photo', 'driverstatus', 'music',\n",
       "       'talk', 'pet', 'smoking', 'manualreservation', 'roundtrip', 'carrating',\n",
       "       'detourtime', 'pageview', 'maxpricedepd', 'minpricedepd',\n",
       "       'meanpricedepd', 'sdpricedepd', 'seatsincar', 'seatsold', 'firstname',\n",
       "       'nbevaluation', 'age', 'gender', 'depart_Lyon'],\n",
       "      dtype='object')"
      ]
     },
     "execution_count": 23,
     "metadata": {},
     "output_type": "execute_result"
    }
   ],
   "source": [
    "df.columns"
   ]
  },
  {
   "cell_type": "code",
   "execution_count": 21,
   "metadata": {},
   "outputs": [
    {
     "data": {
      "text/html": [
       "<div>\n",
       "<style scoped>\n",
       "    .dataframe tbody tr th:only-of-type {\n",
       "        vertical-align: middle;\n",
       "    }\n",
       "\n",
       "    .dataframe tbody tr th {\n",
       "        vertical-align: top;\n",
       "    }\n",
       "\n",
       "    .dataframe thead th {\n",
       "        text-align: right;\n",
       "    }\n",
       "</style>\n",
       "<table border=\"1\" class=\"dataframe\">\n",
       "  <thead>\n",
       "    <tr style=\"text-align: right;\">\n",
       "      <th></th>\n",
       "      <th>tripdistance</th>\n",
       "      <th>price</th>\n",
       "      <th>nboffers</th>\n",
       "      <th>photo</th>\n",
       "      <th>driverstatus</th>\n",
       "      <th>music</th>\n",
       "      <th>talk</th>\n",
       "      <th>pet</th>\n",
       "      <th>smoking</th>\n",
       "      <th>manualreservation</th>\n",
       "      <th>roundtrip</th>\n",
       "      <th>carrating</th>\n",
       "      <th>detourtime</th>\n",
       "      <th>pageview</th>\n",
       "      <th>maxpricedepd</th>\n",
       "      <th>minpricedepd</th>\n",
       "      <th>meanpricedepd</th>\n",
       "      <th>sdpricedepd</th>\n",
       "      <th>seatsincar</th>\n",
       "      <th>seatsold</th>\n",
       "      <th>firstname</th>\n",
       "      <th>nbevaluation</th>\n",
       "      <th>age</th>\n",
       "      <th>gender</th>\n",
       "      <th>depart_Lyon</th>\n",
       "    </tr>\n",
       "  </thead>\n",
       "  <tbody>\n",
       "    <tr>\n",
       "      <th>0</th>\n",
       "      <td>462</td>\n",
       "      <td>25</td>\n",
       "      <td>629</td>\n",
       "      <td>0</td>\n",
       "      <td>2</td>\n",
       "      <td>1</td>\n",
       "      <td>1</td>\n",
       "      <td>0</td>\n",
       "      <td>0</td>\n",
       "      <td>0</td>\n",
       "      <td>0</td>\n",
       "      <td>0</td>\n",
       "      <td>15</td>\n",
       "      <td>42</td>\n",
       "      <td>48</td>\n",
       "      <td>15</td>\n",
       "      <td>29.266666</td>\n",
       "      <td>3.397481</td>\n",
       "      <td>0</td>\n",
       "      <td>0</td>\n",
       "      <td>A</td>\n",
       "      <td>1</td>\n",
       "      <td>28</td>\n",
       "      <td>1</td>\n",
       "      <td>0</td>\n",
       "    </tr>\n",
       "    <tr>\n",
       "      <th>1</th>\n",
       "      <td>435</td>\n",
       "      <td>30</td>\n",
       "      <td>731</td>\n",
       "      <td>0</td>\n",
       "      <td>1</td>\n",
       "      <td>1</td>\n",
       "      <td>1</td>\n",
       "      <td>0</td>\n",
       "      <td>0</td>\n",
       "      <td>0</td>\n",
       "      <td>0</td>\n",
       "      <td>4</td>\n",
       "      <td>15</td>\n",
       "      <td>62</td>\n",
       "      <td>52</td>\n",
       "      <td>19</td>\n",
       "      <td>29.657675</td>\n",
       "      <td>3.256854</td>\n",
       "      <td>6</td>\n",
       "      <td>0</td>\n",
       "      <td>A</td>\n",
       "      <td>0</td>\n",
       "      <td>52</td>\n",
       "      <td>0</td>\n",
       "      <td>1</td>\n",
       "    </tr>\n",
       "    <tr>\n",
       "      <th>2</th>\n",
       "      <td>464</td>\n",
       "      <td>30</td>\n",
       "      <td>721</td>\n",
       "      <td>0</td>\n",
       "      <td>1</td>\n",
       "      <td>1</td>\n",
       "      <td>1</td>\n",
       "      <td>0</td>\n",
       "      <td>0</td>\n",
       "      <td>0</td>\n",
       "      <td>0</td>\n",
       "      <td>4</td>\n",
       "      <td>15</td>\n",
       "      <td>14</td>\n",
       "      <td>52</td>\n",
       "      <td>17</td>\n",
       "      <td>29.499228</td>\n",
       "      <td>3.109686</td>\n",
       "      <td>6</td>\n",
       "      <td>0</td>\n",
       "      <td>A</td>\n",
       "      <td>0</td>\n",
       "      <td>52</td>\n",
       "      <td>0</td>\n",
       "      <td>0</td>\n",
       "    </tr>\n",
       "    <tr>\n",
       "      <th>3</th>\n",
       "      <td>511</td>\n",
       "      <td>49</td>\n",
       "      <td>801</td>\n",
       "      <td>0</td>\n",
       "      <td>1</td>\n",
       "      <td>1</td>\n",
       "      <td>1</td>\n",
       "      <td>0</td>\n",
       "      <td>0</td>\n",
       "      <td>0</td>\n",
       "      <td>0</td>\n",
       "      <td>4</td>\n",
       "      <td>15</td>\n",
       "      <td>18</td>\n",
       "      <td>49</td>\n",
       "      <td>15</td>\n",
       "      <td>29.816593</td>\n",
       "      <td>3.125596</td>\n",
       "      <td>6</td>\n",
       "      <td>1</td>\n",
       "      <td>A</td>\n",
       "      <td>2</td>\n",
       "      <td>52</td>\n",
       "      <td>0</td>\n",
       "      <td>1</td>\n",
       "    </tr>\n",
       "    <tr>\n",
       "      <th>4</th>\n",
       "      <td>516</td>\n",
       "      <td>48</td>\n",
       "      <td>757</td>\n",
       "      <td>0</td>\n",
       "      <td>2</td>\n",
       "      <td>1</td>\n",
       "      <td>1</td>\n",
       "      <td>0</td>\n",
       "      <td>0</td>\n",
       "      <td>0</td>\n",
       "      <td>0</td>\n",
       "      <td>4</td>\n",
       "      <td>15</td>\n",
       "      <td>2</td>\n",
       "      <td>73</td>\n",
       "      <td>20</td>\n",
       "      <td>29.101709</td>\n",
       "      <td>3.698978</td>\n",
       "      <td>6</td>\n",
       "      <td>2</td>\n",
       "      <td>A</td>\n",
       "      <td>2</td>\n",
       "      <td>52</td>\n",
       "      <td>0</td>\n",
       "      <td>1</td>\n",
       "    </tr>\n",
       "  </tbody>\n",
       "</table>\n",
       "</div>"
      ],
      "text/plain": [
       "   tripdistance  price  nboffers  photo  driverstatus  music  talk  pet  \\\n",
       "0           462     25       629      0             2      1     1    0   \n",
       "1           435     30       731      0             1      1     1    0   \n",
       "2           464     30       721      0             1      1     1    0   \n",
       "3           511     49       801      0             1      1     1    0   \n",
       "4           516     48       757      0             2      1     1    0   \n",
       "\n",
       "   smoking  manualreservation  roundtrip  carrating  detourtime  pageview  \\\n",
       "0        0                  0          0          0          15        42   \n",
       "1        0                  0          0          4          15        62   \n",
       "2        0                  0          0          4          15        14   \n",
       "3        0                  0          0          4          15        18   \n",
       "4        0                  0          0          4          15         2   \n",
       "\n",
       "   maxpricedepd  minpricedepd  meanpricedepd  sdpricedepd  seatsincar  \\\n",
       "0            48            15      29.266666     3.397481           0   \n",
       "1            52            19      29.657675     3.256854           6   \n",
       "2            52            17      29.499228     3.109686           6   \n",
       "3            49            15      29.816593     3.125596           6   \n",
       "4            73            20      29.101709     3.698978           6   \n",
       "\n",
       "   seatsold firstname  nbevaluation  age  gender  depart_Lyon  \n",
       "0         0         A             1   28       1            0  \n",
       "1         0         A             0   52       0            1  \n",
       "2         0         A             0   52       0            0  \n",
       "3         1         A             2   52       0            1  \n",
       "4         2         A             2   52       0            1  "
      ]
     },
     "execution_count": 21,
     "metadata": {},
     "output_type": "execute_result"
    }
   ],
   "source": [
    "#Choosing the needed variable\n",
    "df = df[['tripdistance','price', 'nboffers', 'photo', 'driverstatus', 'music', 'talk', 'pet','smoking', 'manualreservation', 'roundtrip','carrating', 'detourtime',\n",
    "       'pageview', 'maxpricedepd', 'minpricedepd', 'meanpricedepd',\n",
    "       'sdpricedepd', 'seatsincar', 'seatsold', 'firstname',\n",
    "       'nbevaluation', 'age', 'gender','depart_Lyon']]\n",
    "df.head()"
   ]
  },
  {
   "cell_type": "code",
   "execution_count": 24,
   "metadata": {},
   "outputs": [
    {
     "data": {
      "text/plain": [
       "tripdistance         0\n",
       "price                0\n",
       "nboffers             0\n",
       "photo                0\n",
       "driverstatus         0\n",
       "music                0\n",
       "talk                 0\n",
       "pet                  0\n",
       "smoking              0\n",
       "manualreservation    0\n",
       "roundtrip            0\n",
       "carrating            0\n",
       "detourtime           0\n",
       "pageview             0\n",
       "maxpricedepd         0\n",
       "minpricedepd         0\n",
       "meanpricedepd        0\n",
       "sdpricedepd          0\n",
       "seatsincar           0\n",
       "seatsold             0\n",
       "firstname            0\n",
       "nbevaluation         0\n",
       "age                  0\n",
       "gender               0\n",
       "depart_Lyon          0\n",
       "dtype: int64"
      ]
     },
     "execution_count": 24,
     "metadata": {},
     "output_type": "execute_result"
    }
   ],
   "source": [
    "#Replace all the missing value\n",
    "df['sdpricedepd'].fillna(df['sdpricedepd'].mean(),inplace = True)\n",
    "df.isna().sum()"
   ]
  },
  {
   "cell_type": "code",
   "execution_count": 10,
   "metadata": {},
   "outputs": [
    {
     "name": "stderr",
     "output_type": "stream",
     "text": [
      "C:\\Users\\user\\AppData\\Roaming\\Python\\Python37\\site-packages\\statsmodels\\tools\\_testing.py:19: FutureWarning: pandas.util.testing is deprecated. Use the functions in the public API at pandas.testing instead.\n",
      "  import pandas.util.testing as tm\n"
     ]
    },
    {
     "data": {
      "image/png": "[encoded data removed]",
      "text/plain": [
       "<Figure size 432x288 with 2 Axes>"
      ]
     },
     "metadata": {
      "needs_background": "light"
     },
     "output_type": "display_data"
    },
    {
     "data": {
      "text/plain": [
       "<Figure size 1440x720 with 0 Axes>"
      ]
     },
     "metadata": {},
     "output_type": "display_data"
    }
   ],
   "source": [
    "#Check the correlation between variables\n",
    "import seaborn as sns\n",
    "import matplotlib.pyplot as plt\n",
    "sns.heatmap(df.corr(),linewidth=0.5,cmap='BrBG')\n",
    "plt.figure(figsize = (20,10))\n",
    "plt.show()"
   ]
  },
  {
   "cell_type": "markdown",
   "metadata": {},
   "source": [
    "##Check for the distribution and outliers"
   ]
  },
  {
   "cell_type": "code",
   "execution_count": 11,
   "metadata": {},
   "outputs": [
    {
     "data": {
      "text/html": [
       "<div>\n",
       "<style scoped>\n",
       "    .dataframe tbody tr th:only-of-type {\n",
       "        vertical-align: middle;\n",
       "    }\n",
       "\n",
       "    .dataframe tbody tr th {\n",
       "        vertical-align: top;\n",
       "    }\n",
       "\n",
       "    .dataframe thead th {\n",
       "        text-align: right;\n",
       "    }\n",
       "</style>\n",
       "<table border=\"1\" class=\"dataframe\">\n",
       "  <thead>\n",
       "    <tr style=\"text-align: right;\">\n",
       "      <th></th>\n",
       "      <th>tripdistance</th>\n",
       "      <th>price</th>\n",
       "      <th>nboffers</th>\n",
       "      <th>photo</th>\n",
       "      <th>music</th>\n",
       "      <th>talk</th>\n",
       "      <th>pet</th>\n",
       "      <th>smoking</th>\n",
       "      <th>manualreservation</th>\n",
       "      <th>roundtrip</th>\n",
       "      <th>carrating</th>\n",
       "      <th>detourtime</th>\n",
       "      <th>pageview</th>\n",
       "      <th>minpricedepd</th>\n",
       "      <th>meanpricedepd</th>\n",
       "      <th>sdpricedepd</th>\n",
       "      <th>seatsincar</th>\n",
       "      <th>nbevaluation</th>\n",
       "      <th>age</th>\n",
       "      <th>gender</th>\n",
       "      <th>depart_Lyon</th>\n",
       "    </tr>\n",
       "  </thead>\n",
       "  <tbody>\n",
       "    <tr>\n",
       "      <th>count</th>\n",
       "      <td>97625.000000</td>\n",
       "      <td>97625.000000</td>\n",
       "      <td>97625.000000</td>\n",
       "      <td>97625.000000</td>\n",
       "      <td>97625.000000</td>\n",
       "      <td>97625.0</td>\n",
       "      <td>97625.000000</td>\n",
       "      <td>97625.000000</td>\n",
       "      <td>97625.000000</td>\n",
       "      <td>97625.000000</td>\n",
       "      <td>97625.000000</td>\n",
       "      <td>97625.00000</td>\n",
       "      <td>97625.000000</td>\n",
       "      <td>97625.000000</td>\n",
       "      <td>97625.000000</td>\n",
       "      <td>97625.000000</td>\n",
       "      <td>97625.000000</td>\n",
       "      <td>97625.000000</td>\n",
       "      <td>97625.000000</td>\n",
       "      <td>97625.000000</td>\n",
       "      <td>97625.000000</td>\n",
       "    </tr>\n",
       "    <tr>\n",
       "      <th>mean</th>\n",
       "      <td>467.667093</td>\n",
       "      <td>29.136020</td>\n",
       "      <td>767.564282</td>\n",
       "      <td>0.419001</td>\n",
       "      <td>0.571790</td>\n",
       "      <td>1.0</td>\n",
       "      <td>0.085163</td>\n",
       "      <td>0.058284</td>\n",
       "      <td>0.173101</td>\n",
       "      <td>0.239877</td>\n",
       "      <td>2.403759</td>\n",
       "      <td>7.67370</td>\n",
       "      <td>42.392205</td>\n",
       "      <td>17.492353</td>\n",
       "      <td>29.680794</td>\n",
       "      <td>3.299338</td>\n",
       "      <td>2.300026</td>\n",
       "      <td>12.207877</td>\n",
       "      <td>34.555575</td>\n",
       "      <td>0.249209</td>\n",
       "      <td>0.508087</td>\n",
       "    </tr>\n",
       "    <tr>\n",
       "      <th>std</th>\n",
       "      <td>26.849475</td>\n",
       "      <td>3.538796</td>\n",
       "      <td>51.926539</td>\n",
       "      <td>0.493398</td>\n",
       "      <td>0.494822</td>\n",
       "      <td>0.0</td>\n",
       "      <td>0.279125</td>\n",
       "      <td>0.234281</td>\n",
       "      <td>0.378337</td>\n",
       "      <td>0.427010</td>\n",
       "      <td>1.083397</td>\n",
       "      <td>7.89481</td>\n",
       "      <td>60.043466</td>\n",
       "      <td>4.897133</td>\n",
       "      <td>0.679380</td>\n",
       "      <td>0.967273</td>\n",
       "      <td>1.833990</td>\n",
       "      <td>22.740628</td>\n",
       "      <td>11.899285</td>\n",
       "      <td>0.432557</td>\n",
       "      <td>0.499937</td>\n",
       "    </tr>\n",
       "    <tr>\n",
       "      <th>min</th>\n",
       "      <td>312.000000</td>\n",
       "      <td>1.000000</td>\n",
       "      <td>526.000000</td>\n",
       "      <td>0.000000</td>\n",
       "      <td>0.000000</td>\n",
       "      <td>1.0</td>\n",
       "      <td>0.000000</td>\n",
       "      <td>0.000000</td>\n",
       "      <td>0.000000</td>\n",
       "      <td>0.000000</td>\n",
       "      <td>0.000000</td>\n",
       "      <td>0.00000</td>\n",
       "      <td>0.000000</td>\n",
       "      <td>-1.000000</td>\n",
       "      <td>21.666666</td>\n",
       "      <td>0.000000</td>\n",
       "      <td>0.000000</td>\n",
       "      <td>0.000000</td>\n",
       "      <td>0.000000</td>\n",
       "      <td>0.000000</td>\n",
       "      <td>0.000000</td>\n",
       "    </tr>\n",
       "    <tr>\n",
       "      <th>25%</th>\n",
       "      <td>462.000000</td>\n",
       "      <td>28.000000</td>\n",
       "      <td>761.000000</td>\n",
       "      <td>0.000000</td>\n",
       "      <td>0.000000</td>\n",
       "      <td>1.0</td>\n",
       "      <td>0.000000</td>\n",
       "      <td>0.000000</td>\n",
       "      <td>0.000000</td>\n",
       "      <td>0.000000</td>\n",
       "      <td>2.000000</td>\n",
       "      <td>0.00000</td>\n",
       "      <td>8.000000</td>\n",
       "      <td>15.000000</td>\n",
       "      <td>29.267822</td>\n",
       "      <td>2.752414</td>\n",
       "      <td>0.000000</td>\n",
       "      <td>0.000000</td>\n",
       "      <td>26.000000</td>\n",
       "      <td>0.000000</td>\n",
       "      <td>0.000000</td>\n",
       "    </tr>\n",
       "    <tr>\n",
       "      <th>50%</th>\n",
       "      <td>462.000000</td>\n",
       "      <td>30.000000</td>\n",
       "      <td>785.000000</td>\n",
       "      <td>0.000000</td>\n",
       "      <td>1.000000</td>\n",
       "      <td>1.0</td>\n",
       "      <td>0.000000</td>\n",
       "      <td>0.000000</td>\n",
       "      <td>0.000000</td>\n",
       "      <td>0.000000</td>\n",
       "      <td>3.000000</td>\n",
       "      <td>0.00000</td>\n",
       "      <td>23.000000</td>\n",
       "      <td>20.000000</td>\n",
       "      <td>29.720201</td>\n",
       "      <td>3.079294</td>\n",
       "      <td>3.000000</td>\n",
       "      <td>4.000000</td>\n",
       "      <td>31.000000</td>\n",
       "      <td>0.000000</td>\n",
       "      <td>1.000000</td>\n",
       "    </tr>\n",
       "    <tr>\n",
       "      <th>75%</th>\n",
       "      <td>469.000000</td>\n",
       "      <td>30.000000</td>\n",
       "      <td>798.000000</td>\n",
       "      <td>1.000000</td>\n",
       "      <td>1.000000</td>\n",
       "      <td>1.0</td>\n",
       "      <td>0.000000</td>\n",
       "      <td>0.000000</td>\n",
       "      <td>0.000000</td>\n",
       "      <td>0.000000</td>\n",
       "      <td>3.000000</td>\n",
       "      <td>15.00000</td>\n",
       "      <td>53.000000</td>\n",
       "      <td>20.000000</td>\n",
       "      <td>30.103077</td>\n",
       "      <td>3.506759</td>\n",
       "      <td>4.000000</td>\n",
       "      <td>13.000000</td>\n",
       "      <td>42.000000</td>\n",
       "      <td>0.000000</td>\n",
       "      <td>1.000000</td>\n",
       "    </tr>\n",
       "    <tr>\n",
       "      <th>max</th>\n",
       "      <td>1700.000000</td>\n",
       "      <td>251.000000</td>\n",
       "      <td>834.000000</td>\n",
       "      <td>1.000000</td>\n",
       "      <td>1.000000</td>\n",
       "      <td>1.0</td>\n",
       "      <td>1.000000</td>\n",
       "      <td>1.000000</td>\n",
       "      <td>1.000000</td>\n",
       "      <td>1.000000</td>\n",
       "      <td>4.000000</td>\n",
       "      <td>30.00000</td>\n",
       "      <td>1199.000000</td>\n",
       "      <td>38.000000</td>\n",
       "      <td>38.000000</td>\n",
       "      <td>9.647118</td>\n",
       "      <td>18.000000</td>\n",
       "      <td>357.000000</td>\n",
       "      <td>102.000000</td>\n",
       "      <td>1.000000</td>\n",
       "      <td>1.000000</td>\n",
       "    </tr>\n",
       "  </tbody>\n",
       "</table>\n",
       "</div>"
      ],
      "text/plain": [
       "       tripdistance         price      nboffers         photo         music  \\\n",
       "count  97625.000000  97625.000000  97625.000000  97625.000000  97625.000000   \n",
       "mean     467.667093     29.136020    767.564282      0.419001      0.571790   \n",
       "std       26.849475      3.538796     51.926539      0.493398      0.494822   \n",
       "min      312.000000      1.000000    526.000000      0.000000      0.000000   \n",
       "25%      462.000000     28.000000    761.000000      0.000000      0.000000   \n",
       "50%      462.000000     30.000000    785.000000      0.000000      1.000000   \n",
       "75%      469.000000     30.000000    798.000000      1.000000      1.000000   \n",
       "max     1700.000000    251.000000    834.000000      1.000000      1.000000   \n",
       "\n",
       "          talk           pet       smoking  manualreservation     roundtrip  \\\n",
       "count  97625.0  97625.000000  97625.000000       97625.000000  97625.000000   \n",
       "mean       1.0      0.085163      0.058284           0.173101      0.239877   \n",
       "std        0.0      0.279125      0.234281           0.378337      0.427010   \n",
       "min        1.0      0.000000      0.000000           0.000000      0.000000   \n",
       "25%        1.0      0.000000      0.000000           0.000000      0.000000   \n",
       "50%        1.0      0.000000      0.000000           0.000000      0.000000   \n",
       "75%        1.0      0.000000      0.000000           0.000000      0.000000   \n",
       "max        1.0      1.000000      1.000000           1.000000      1.000000   \n",
       "\n",
       "          carrating   detourtime      pageview  minpricedepd  meanpricedepd  \\\n",
       "count  97625.000000  97625.00000  97625.000000  97625.000000   97625.000000   \n",
       "mean       2.403759      7.67370     42.392205     17.492353      29.680794   \n",
       "std        1.083397      7.89481     60.043466      4.897133       0.679380   \n",
       "min        0.000000      0.00000      0.000000     -1.000000      21.666666   \n",
       "25%        2.000000      0.00000      8.000000     15.000000      29.267822   \n",
       "50%        3.000000      0.00000     23.000000     20.000000      29.720201   \n",
       "75%        3.000000     15.00000     53.000000     20.000000      30.103077   \n",
       "max        4.000000     30.00000   1199.000000     38.000000      38.000000   \n",
       "\n",
       "        sdpricedepd    seatsincar  nbevaluation           age        gender  \\\n",
       "count  97625.000000  97625.000000  97625.000000  97625.000000  97625.000000   \n",
       "mean       3.299338      2.300026     12.207877     34.555575      0.249209   \n",
       "std        0.967273      1.833990     22.740628     11.899285      0.432557   \n",
       "min        0.000000      0.000000      0.000000      0.000000      0.000000   \n",
       "25%        2.752414      0.000000      0.000000     26.000000      0.000000   \n",
       "50%        3.079294      3.000000      4.000000     31.000000      0.000000   \n",
       "75%        3.506759      4.000000     13.000000     42.000000      0.000000   \n",
       "max        9.647118     18.000000    357.000000    102.000000      1.000000   \n",
       "\n",
       "        depart_Lyon  \n",
       "count  97625.000000  \n",
       "mean       0.508087  \n",
       "std        0.499937  \n",
       "min        0.000000  \n",
       "25%        0.000000  \n",
       "50%        1.000000  \n",
       "75%        1.000000  \n",
       "max        1.000000  "
      ]
     },
     "execution_count": 11,
     "metadata": {},
     "output_type": "execute_result"
    }
   ],
   "source": [
    "df = df[['tripdistance','price', 'nboffers', 'photo','music', 'talk', 'pet','smoking', 'manualreservation', 'roundtrip','carrating', 'detourtime',\n",
    "       'pageview', 'minpricedepd', 'meanpricedepd',\n",
    "       'sdpricedepd', 'seatsincar','firstname',\n",
    "       'nbevaluation', 'age', 'gender', 'depart_Lyon']]\n",
    "df.describe()"
   ]
  },
  {
   "cell_type": "code",
   "execution_count": 12,
   "metadata": {},
   "outputs": [
    {
     "data": {
      "text/plain": [
       "<matplotlib.axes._subplots.AxesSubplot at 0x161bbef1ba8>"
      ]
     },
     "execution_count": 12,
     "metadata": {},
     "output_type": "execute_result"
    },
    {
     "data": {
      "image/png": "[encoded data removed]",
      "text/plain": [
       "<Figure size 432x288 with 1 Axes>"
      ]
     },
     "metadata": {
      "needs_background": "light"
     },
     "output_type": "display_data"
    }
   ],
   "source": [
    "df[['tripdistance','price', 'nboffers', 'photo','music']].boxplot()"
   ]
  },
  {
   "cell_type": "code",
   "execution_count": 13,
   "metadata": {},
   "outputs": [
    {
     "data": {
      "text/plain": [
       "<matplotlib.axes._subplots.AxesSubplot at 0x161bc037f60>"
      ]
     },
     "execution_count": 13,
     "metadata": {},
     "output_type": "execute_result"
    },
    {
     "data": {
      "image/png": "[encoded data removed]",
      "text/plain": [
       "<Figure size 432x288 with 1 Axes>"
      ]
     },
     "metadata": {
      "needs_background": "light"
     },
     "output_type": "display_data"
    }
   ],
   "source": [
    "df[['talk', 'pet','smoking', 'manualreservation', 'roundtrip']].boxplot()"
   ]
  },
  {
   "cell_type": "code",
   "execution_count": 14,
   "metadata": {},
   "outputs": [
    {
     "data": {
      "text/plain": [
       "<matplotlib.axes._subplots.AxesSubplot at 0x161bc1b9dd8>"
      ]
     },
     "execution_count": 14,
     "metadata": {},
     "output_type": "execute_result"
    },
    {
     "data": {
      "image/png": "[encoded data removed]",
      "text/plain": [
       "<Figure size 432x288 with 1 Axes>"
      ]
     },
     "metadata": {
      "needs_background": "light"
     },
     "output_type": "display_data"
    }
   ],
   "source": [
    "df[['carrating', 'detourtime','pageview', 'minpricedepd', 'meanpricedepd']].boxplot()"
   ]
  },
  {
   "cell_type": "code",
   "execution_count": 15,
   "metadata": {},
   "outputs": [
    {
     "data": {
      "text/plain": [
       "<matplotlib.axes._subplots.AxesSubplot at 0x161bc48c5f8>"
      ]
     },
     "execution_count": 15,
     "metadata": {},
     "output_type": "execute_result"
    },
    {
     "data": {
      "image/png": "[encoded data removed]",
      "text/plain": [
       "<Figure size 432x288 with 1 Axes>"
      ]
     },
     "metadata": {
      "needs_background": "light"
     },
     "output_type": "display_data"
    }
   ],
   "source": [
    "df[['sdpricedepd', 'seatsincar','firstname','nbevaluation', 'age', 'gender', 'depart_Lyon']].boxplot()"
   ]
  },
  {
   "cell_type": "code",
   "execution_count": 16,
   "metadata": {},
   "outputs": [],
   "source": [
    "#Remove the outlier which in not in 3 std\n",
    "std = df['nbevaluation'].std()\n",
    "mean = df['nbevaluation'].mean()\n",
    "\n",
    "cut_off = mean+3*std\n",
    "\n",
    "lower,upper = mean-cut_off,mean+cut_off\n",
    "df = df[(df['nbevaluation']>lower)&(df['nbevaluation']<upper)]"
   ]
  },
  {
   "cell_type": "code",
   "execution_count": 17,
   "metadata": {},
   "outputs": [
    {
     "data": {
      "text/plain": [
       "<matplotlib.axes._subplots.AxesSubplot at 0x161bc62fe48>"
      ]
     },
     "execution_count": 17,
     "metadata": {},
     "output_type": "execute_result"
    },
    {
     "data": {
      "image/png": "[encoded data removed]",
      "text/plain": [
       "<Figure size 432x288 with 1 Axes>"
      ]
     },
     "metadata": {
      "needs_background": "light"
     },
     "output_type": "display_data"
    }
   ],
   "source": [
    "df[['sdpricedepd', 'seatsincar','firstname','nbevaluation', 'age', 'gender', 'depart_Lyon']].boxplot()"
   ]
  },
  {
   "cell_type": "code",
   "execution_count": 18,
   "metadata": {},
   "outputs": [],
   "source": [
    "#log transformation\n",
    "from sklearn.preprocessing import PowerTransformer\n",
    "log_trans = PowerTransformer()\n",
    "log_trans.fit(df[['nbevaluation']])\n",
    "df['log_nbevaluation'] = log_trans.transform(df[['nbevaluation']])\n",
    "log_trans.fit(df[['pageview']])\n",
    "df['log_pageview'] = log_trans.transform(df[['pageview']])\n"
   ]
  },
  {
   "cell_type": "code",
   "execution_count": 19,
   "metadata": {},
   "outputs": [],
   "source": [
    "#Standardize the data for analysis\n",
    "from sklearn.preprocessing import StandardScaler\n",
    "std = StandardScaler()\n",
    "std.fit(df[['detourtime']])\n",
    "df['std_detourtime']=std.transform(df[['detourtime']])\n",
    "std.fit(df[['age']])\n",
    "df['std_age']=std.transform(df[['age']])\n",
    "std.fit(df[['tripdistance']])\n",
    "df['std_tripdistance']=std.transform(df[['tripdistance']])\n",
    "std.fit(df[['meanpricedepd']])\n",
    "df['std_meanpricedepd']=std.transform(df[['meanpricedepd']])\n",
    "std.fit(df[['minpricedepd']])\n",
    "df['std_minpricedepd']=std.transform(df[['minpricedepd']])\n"
   ]
  },
  {
   "cell_type": "code",
   "execution_count": 20,
   "metadata": {},
   "outputs": [
    {
     "data": {
      "text/plain": [
       "Index(['tripdistance', 'price', 'nboffers', 'photo', 'music', 'talk', 'pet',\n",
       "       'smoking', 'manualreservation', 'roundtrip', 'carrating', 'detourtime',\n",
       "       'pageview', 'minpricedepd', 'meanpricedepd', 'sdpricedepd',\n",
       "       'seatsincar', 'firstname', 'nbevaluation', 'age', 'gender',\n",
       "       'depart_Lyon', 'log_nbevaluation', 'log_pageview', 'std_detourtime',\n",
       "       'std_age', 'std_tripdistance', 'std_meanpricedepd', 'std_minpricedepd'],\n",
       "      dtype='object')"
      ]
     },
     "execution_count": 20,
     "metadata": {},
     "output_type": "execute_result"
    }
   ],
   "source": [
    "df.columns"
   ]
  },
  {
   "cell_type": "code",
   "execution_count": 21,
   "metadata": {},
   "outputs": [],
   "source": [
    "df_clean = df[['photo','music', 'talk', 'pet','price',\n",
    "       'smoking', 'manualreservation', 'roundtrip', 'carrating','seatsincar','gender','depart_Lyon', 'log_nbevaluation', 'log_pageview', 'std_detourtime',\n",
    "        'std_age', 'std_tripdistance', 'std_meanpricedepd',\n",
    "       'std_minpricedepd']]"
   ]
  },
  {
   "cell_type": "code",
   "execution_count": 22,
   "metadata": {},
   "outputs": [
    {
     "data": {
      "text/html": [
       "<div>\n",
       "<style scoped>\n",
       "    .dataframe tbody tr th:only-of-type {\n",
       "        vertical-align: middle;\n",
       "    }\n",
       "\n",
       "    .dataframe tbody tr th {\n",
       "        vertical-align: top;\n",
       "    }\n",
       "\n",
       "    .dataframe thead th {\n",
       "        text-align: right;\n",
       "    }\n",
       "</style>\n",
       "<table border=\"1\" class=\"dataframe\">\n",
       "  <thead>\n",
       "    <tr style=\"text-align: right;\">\n",
       "      <th></th>\n",
       "      <th>photo</th>\n",
       "      <th>music</th>\n",
       "      <th>talk</th>\n",
       "      <th>pet</th>\n",
       "      <th>price</th>\n",
       "      <th>smoking</th>\n",
       "      <th>manualreservation</th>\n",
       "      <th>roundtrip</th>\n",
       "      <th>carrating</th>\n",
       "      <th>seatsincar</th>\n",
       "      <th>gender</th>\n",
       "      <th>depart_Lyon</th>\n",
       "      <th>log_nbevaluation</th>\n",
       "      <th>log_pageview</th>\n",
       "      <th>std_detourtime</th>\n",
       "      <th>std_age</th>\n",
       "      <th>std_tripdistance</th>\n",
       "      <th>std_meanpricedepd</th>\n",
       "      <th>std_minpricedepd</th>\n",
       "    </tr>\n",
       "  </thead>\n",
       "  <tbody>\n",
       "    <tr>\n",
       "      <th>0</th>\n",
       "      <td>0</td>\n",
       "      <td>1</td>\n",
       "      <td>1</td>\n",
       "      <td>0</td>\n",
       "      <td>25</td>\n",
       "      <td>0</td>\n",
       "      <td>0</td>\n",
       "      <td>0</td>\n",
       "      <td>0</td>\n",
       "      <td>0</td>\n",
       "      <td>1</td>\n",
       "      <td>0</td>\n",
       "      <td>-0.656130</td>\n",
       "      <td>0.504316</td>\n",
       "      <td>0.924104</td>\n",
       "      <td>-0.547233</td>\n",
       "      <td>-0.210545</td>\n",
       "      <td>-0.611878</td>\n",
       "      <td>-0.509815</td>\n",
       "    </tr>\n",
       "    <tr>\n",
       "      <th>1</th>\n",
       "      <td>0</td>\n",
       "      <td>1</td>\n",
       "      <td>1</td>\n",
       "      <td>0</td>\n",
       "      <td>30</td>\n",
       "      <td>0</td>\n",
       "      <td>0</td>\n",
       "      <td>0</td>\n",
       "      <td>4</td>\n",
       "      <td>6</td>\n",
       "      <td>0</td>\n",
       "      <td>1</td>\n",
       "      <td>-1.294940</td>\n",
       "      <td>0.832144</td>\n",
       "      <td>0.924104</td>\n",
       "      <td>1.469411</td>\n",
       "      <td>-1.211073</td>\n",
       "      <td>-0.035246</td>\n",
       "      <td>0.307151</td>\n",
       "    </tr>\n",
       "    <tr>\n",
       "      <th>2</th>\n",
       "      <td>0</td>\n",
       "      <td>1</td>\n",
       "      <td>1</td>\n",
       "      <td>0</td>\n",
       "      <td>30</td>\n",
       "      <td>0</td>\n",
       "      <td>0</td>\n",
       "      <td>0</td>\n",
       "      <td>4</td>\n",
       "      <td>6</td>\n",
       "      <td>0</td>\n",
       "      <td>0</td>\n",
       "      <td>-1.294940</td>\n",
       "      <td>-0.329866</td>\n",
       "      <td>0.924104</td>\n",
       "      <td>1.469411</td>\n",
       "      <td>-0.136432</td>\n",
       "      <td>-0.268912</td>\n",
       "      <td>-0.101332</td>\n",
       "    </tr>\n",
       "    <tr>\n",
       "      <th>3</th>\n",
       "      <td>0</td>\n",
       "      <td>1</td>\n",
       "      <td>1</td>\n",
       "      <td>0</td>\n",
       "      <td>49</td>\n",
       "      <td>0</td>\n",
       "      <td>0</td>\n",
       "      <td>0</td>\n",
       "      <td>4</td>\n",
       "      <td>6</td>\n",
       "      <td>0</td>\n",
       "      <td>1</td>\n",
       "      <td>-0.308023</td>\n",
       "      <td>-0.151145</td>\n",
       "      <td>0.924104</td>\n",
       "      <td>1.469411</td>\n",
       "      <td>1.605229</td>\n",
       "      <td>0.199115</td>\n",
       "      <td>-0.509815</td>\n",
       "    </tr>\n",
       "    <tr>\n",
       "      <th>4</th>\n",
       "      <td>0</td>\n",
       "      <td>1</td>\n",
       "      <td>1</td>\n",
       "      <td>0</td>\n",
       "      <td>48</td>\n",
       "      <td>0</td>\n",
       "      <td>0</td>\n",
       "      <td>0</td>\n",
       "      <td>4</td>\n",
       "      <td>6</td>\n",
       "      <td>0</td>\n",
       "      <td>1</td>\n",
       "      <td>-0.308023</td>\n",
       "      <td>-1.427984</td>\n",
       "      <td>0.924104</td>\n",
       "      <td>1.469411</td>\n",
       "      <td>1.790512</td>\n",
       "      <td>-0.855145</td>\n",
       "      <td>0.511393</td>\n",
       "    </tr>\n",
       "  </tbody>\n",
       "</table>\n",
       "</div>"
      ],
      "text/plain": [
       "   photo  music  talk  pet  price  smoking  manualreservation  roundtrip  \\\n",
       "0      0      1     1    0     25        0                  0          0   \n",
       "1      0      1     1    0     30        0                  0          0   \n",
       "2      0      1     1    0     30        0                  0          0   \n",
       "3      0      1     1    0     49        0                  0          0   \n",
       "4      0      1     1    0     48        0                  0          0   \n",
       "\n",
       "   carrating  seatsincar  gender  depart_Lyon  log_nbevaluation  log_pageview  \\\n",
       "0          0           0       1            0         -0.656130      0.504316   \n",
       "1          4           6       0            1         -1.294940      0.832144   \n",
       "2          4           6       0            0         -1.294940     -0.329866   \n",
       "3          4           6       0            1         -0.308023     -0.151145   \n",
       "4          4           6       0            1         -0.308023     -1.427984   \n",
       "\n",
       "   std_detourtime   std_age  std_tripdistance  std_meanpricedepd  \\\n",
       "0        0.924104 -0.547233         -0.210545          -0.611878   \n",
       "1        0.924104  1.469411         -1.211073          -0.035246   \n",
       "2        0.924104  1.469411         -0.136432          -0.268912   \n",
       "3        0.924104  1.469411          1.605229           0.199115   \n",
       "4        0.924104  1.469411          1.790512          -0.855145   \n",
       "\n",
       "   std_minpricedepd  \n",
       "0         -0.509815  \n",
       "1          0.307151  \n",
       "2         -0.101332  \n",
       "3         -0.509815  \n",
       "4          0.511393  "
      ]
     },
     "execution_count": 22,
     "metadata": {},
     "output_type": "execute_result"
    }
   ],
   "source": [
    "df_clean.head()"
   ]
  },
  {
   "cell_type": "code",
   "execution_count": 23,
   "metadata": {},
   "outputs": [
    {
     "data": {
      "text/plain": [
       "Text(0.5, 1.0, 'elbow method')"
      ]
     },
     "execution_count": 23,
     "metadata": {},
     "output_type": "execute_result"
    },
    {
     "data": {
      "image/png": "[encoded data removed]",
      "text/plain": [
       "<Figure size 432x288 with 1 Axes>"
      ]
     },
     "metadata": {
      "needs_background": "light"
     },
     "output_type": "display_data"
    }
   ],
   "source": [
    "#Elbow Method for clustering\n",
    "import matplotlib.pyplot as plt\n",
    "from sklearn.cluster import KMeans\n",
    "sqr = []\n",
    "k = range(1,15)\n",
    "for i in range (1,15):\n",
    "    km =KMeans(n_clusters = i)\n",
    "    km.fit(df_clean[['std_tripdistance','seatsincar']])\n",
    "    sqr.append(km.inertia_)\n",
    "plt.plot(k,sqr,label = \"squared error\")\n",
    "plt.legend(loc = 'upper right')\n",
    "plt.title('elbow method')"
   ]
  },
  {
   "cell_type": "code",
   "execution_count": 24,
   "metadata": {},
   "outputs": [
    {
     "name": "stdout",
     "output_type": "stream",
     "text": [
      "[[-3.53362454e-04  5.45005639e-02]\n",
      " [-2.61763897e-02  4.40644763e+00]\n",
      " [-1.69084464e-02  2.81091856e+00]\n",
      " [ 2.68135519e+01  2.28571429e+00]]\n"
     ]
    }
   ],
   "source": [
    "kmeans = KMeans(n_clusters = 4).fit(df[['std_tripdistance','seatsincar']])\n",
    "center = kmeans.cluster_centers_\n",
    "print(center)"
   ]
  },
  {
   "cell_type": "code",
   "execution_count": 25,
   "metadata": {},
   "outputs": [
    {
     "data": {
      "text/plain": [
       "Text(0.5, 1.0, 'clustering outcome')"
      ]
     },
     "execution_count": 25,
     "metadata": {},
     "output_type": "execute_result"
    },
    {
     "data": {
      "image/png": "[encoded data removed]",
      "text/plain": [
       "<Figure size 432x288 with 1 Axes>"
      ]
     },
     "metadata": {
      "needs_background": "light"
     },
     "output_type": "display_data"
    }
   ],
   "source": [
    "#Ploting the clustering outcome\n",
    "plt.scatter(df['std_tripdistance'],df['seatsincar'],c = kmeans.labels_.astype(float),s = 50)\n",
    "plt.xlabel('trip distance')\n",
    "plt.ylabel('seat in car')\n",
    "plt.title('clustering outcome')"
   ]
  },
  {
   "cell_type": "code",
   "execution_count": 26,
   "metadata": {},
   "outputs": [],
   "source": [
    "#Preparing for machine learning\n",
    "from sklearn.model_selection import train_test_split\n",
    "from sklearn.tree import DecisionTreeRegressor\n",
    "from sklearn.metrics import mean_squared_error as MSE\n",
    "from sklearn.tree import DecisionTreeClassifier\n",
    "from sklearn.metrics import accuracy_score\n",
    "from sklearn.linear_model import  LogisticRegression\n",
    "from sklearn.ensemble import VotingClassifier\n",
    "from sklearn.ensemble import BaggingClassifier\n",
    "from sklearn.ensemble import RandomForestRegressor\n",
    "from sklearn.ensemble import AdaBoostClassifier    \n",
    "from sklearn.metrics import roc_auc_score\n",
    "from sklearn.ensemble import GradientBoostingRegressor\n",
    "from sklearn.model_selection import GridSearchCV"
   ]
  },
  {
   "cell_type": "code",
   "execution_count": 27,
   "metadata": {},
   "outputs": [],
   "source": [
    "#Separating the training data and test data\n",
    "X = df_clean[['photo','music', 'talk', 'pet',\n",
    "       'smoking', 'manualreservation', 'roundtrip', 'carrating','seatsincar','gender','depart_Lyon', 'log_nbevaluation', 'log_pageview', 'std_detourtime',\n",
    "        'std_age', 'std_tripdistance', 'std_meanpricedepd',\n",
    "       'std_minpricedepd']]\n",
    "y = df_clean['price']\n",
    "X_train,X_test,y_train,y_test = train_test_split(X,y,test_size = 0.2, random_state = 1)"
   ]
  },
  {
   "cell_type": "code",
   "execution_count": 28,
   "metadata": {},
   "outputs": [
    {
     "data": {
      "text/plain": [
       "RandomForestRegressor(bootstrap=True, ccp_alpha=0.0, criterion='mse',\n",
       "                      max_depth=None, max_features='sqrt', max_leaf_nodes=None,\n",
       "                      max_samples=None, min_impurity_decrease=0.0,\n",
       "                      min_impurity_split=None, min_samples_leaf=4,\n",
       "                      min_samples_split=2, min_weight_fraction_leaf=0.0,\n",
       "                      n_estimators=250, n_jobs=None, oob_score=False,\n",
       "                      random_state=None, verbose=0, warm_start=False)"
      ]
     },
     "execution_count": 28,
     "metadata": {},
     "output_type": "execute_result"
    }
   ],
   "source": [
    "rf =  RandomForestRegressor(n_estimators=250,max_features = 'sqrt',min_samples_leaf = 4)\n",
    "rf.fit(X,y)"
   ]
  },
  {
   "cell_type": "code",
   "execution_count": 29,
   "metadata": {},
   "outputs": [
    {
     "data": {
      "text/plain": [
       "<matplotlib.axes._subplots.AxesSubplot at 0x161bbb363c8>"
      ]
     },
     "execution_count": 29,
     "metadata": {},
     "output_type": "execute_result"
    },
    {
     "data": {
      "image/png": "[encoded data removed]",
      "text/plain": [
       "<Figure size 432x288 with 1 Axes>"
      ]
     },
     "metadata": {
      "needs_background": "light"
     },
     "output_type": "display_data"
    }
   ],
   "source": [
    "#Check the important variable\n",
    "feature_important = pd.Series(data = rf.feature_importances_,\n",
    "                              index = X.columns)\n",
    "feature_important_sort = feature_important.sort_values()\n",
    "feature_important_sort.plot(kind = 'barh', color = 'lightgreen')"
   ]
  },
  {
   "cell_type": "code",
   "execution_count": 30,
   "metadata": {},
   "outputs": [
    {
     "name": "stdout",
     "output_type": "stream",
     "text": [
      "Fitting 3 folds for each of 36 candidates, totalling 108 fits\n"
     ]
    },
    {
     "name": "stderr",
     "output_type": "stream",
     "text": [
      "[Parallel(n_jobs=-1)]: Using backend LokyBackend with 4 concurrent workers.\n",
      "[Parallel(n_jobs=-1)]: Done  42 tasks      | elapsed: 18.1min\n",
      "[Parallel(n_jobs=-1)]: Done 108 out of 108 | elapsed: 58.2min finished\n"
     ]
    },
    {
     "data": {
      "text/plain": [
       "GridSearchCV(cv=3, error_score=nan,\n",
       "             estimator=RandomForestRegressor(bootstrap=True, ccp_alpha=0.0,\n",
       "                                             criterion='mse', max_depth=None,\n",
       "                                             max_features='auto',\n",
       "                                             max_leaf_nodes=None,\n",
       "                                             max_samples=None,\n",
       "                                             min_impurity_decrease=0.0,\n",
       "                                             min_impurity_split=None,\n",
       "                                             min_samples_leaf=1,\n",
       "                                             min_samples_split=2,\n",
       "                                             min_weight_fraction_leaf=0.0,\n",
       "                                             n_estimators=100, n_jobs=None,\n",
       "                                             oob_score=False, random_state=None,\n",
       "                                             verbose=0, warm_start=False),\n",
       "             iid='deprecated', n_jobs=-1,\n",
       "             param_grid={'max_features': ['log2', 'auto', 'sqrt'],\n",
       "                         'min_samples_leaf': [2, 3, 4],\n",
       "                         'n_estimators': [150, 200, 250, 300]},\n",
       "             pre_dispatch='2*n_jobs', refit=True, return_train_score=False,\n",
       "             scoring=None, verbose=1)"
      ]
     },
     "execution_count": 30,
     "metadata": {},
     "output_type": "execute_result"
    }
   ],
   "source": [
    "#Grid search method to find the best parameter\n",
    "params = {'n_estimators':[150,200,250,300],'max_features' : ['log2','auto','sqrt'],'min_samples_leaf':[2,3,4]}\n",
    "rf_grid = GridSearchCV(param_grid=params, cv = 3, n_jobs = -1, estimator = RandomForestRegressor(), verbose=1)\n",
    "rf_grid.fit(X,y)"
   ]
  },
  {
   "cell_type": "code",
   "execution_count": 31,
   "metadata": {},
   "outputs": [
    {
     "data": {
      "text/plain": [
       "{'max_features': 'log2', 'min_samples_leaf': 4, 'n_estimators': 250}"
      ]
     },
     "execution_count": 31,
     "metadata": {},
     "output_type": "execute_result"
    }
   ],
   "source": [
    "rf_grid.best_params_"
   ]
  },
  {
   "cell_type": "code",
   "execution_count": 32,
   "metadata": {},
   "outputs": [],
   "source": [
    "X = df_clean[['std_tripdistance','std_meanpricedepd','log_pageview','log_nbevaluation','std_age','std_minpricedepd','seatsincar','carrating']]\n",
    "y = df_clean['price']\n",
    "X_train,X_test,y_train,y_test = train_test_split(X,y,test_size = 0.2, random_state = 1)"
   ]
  },
  {
   "cell_type": "code",
   "execution_count": 33,
   "metadata": {},
   "outputs": [
    {
     "name": "stdout",
     "output_type": "stream",
     "text": [
      "10.448551326891641 {'max_depth': 8, 'min_samples_leaf': 2}\n"
     ]
    }
   ],
   "source": [
    "#Using the decision tree as estimator and did the grid search again\n",
    "params = {'max_depth':[3,4,5,6,7,8],'min_samples_leaf' : [2,3,4,5,6,7]}\n",
    "dt_grid = GridSearchCV(param_grid=params,estimator= DecisionTreeRegressor(),n_jobs = -1, cv = 5)\n",
    "dt_grid.fit(X_train,y_train)\n",
    "y_pred = dt_grid.predict(X_test)\n",
    "score = MSE(y_test,y_pred)\n",
    "print(score,dt_grid.best_params_)"
   ]
  },
  {
   "cell_type": "code",
   "execution_count": 34,
   "metadata": {},
   "outputs": [
    {
     "name": "stdout",
     "output_type": "stream",
     "text": [
      "10.601224793409301\n"
     ]
    }
   ],
   "source": [
    "#Using Adaboost\n",
    "from sklearn.ensemble import AdaBoostRegressor\n",
    "dt = DecisionTreeRegressor()\n",
    "ada = AdaBoostRegressor(base_estimator = dt, n_estimators = 250, random_state = 2)\n",
    "ada.fit(X_train,y_train)\n",
    "y_pred = ada.predict(X_test)\n",
    "score = MSE(y_test,y_pred)\n",
    "print(score)"
   ]
  },
  {
   "cell_type": "code",
   "execution_count": 35,
   "metadata": {},
   "outputs": [
    {
     "data": {
      "text/plain": [
       "10.201782009586504"
      ]
     },
     "execution_count": 35,
     "metadata": {},
     "output_type": "execute_result"
    }
   ],
   "source": [
    "#Using Gradient Boosting\n",
    "sgbr = GradientBoostingRegressor(subsample=0.9,\n",
    "                                 max_depth = 4,\n",
    "                                 n_estimators = 200,\n",
    "                                  max_features = 0.9)\n",
    "sgbr.fit(X_train,y_train)\n",
    "y_pred = sgbr.predict(X_test)\n",
    "socre = MSE(y_test,y_pred)\n",
    "socre\n"
   ]
  },
  {
   "cell_type": "code",
   "execution_count": 36,
   "metadata": {},
   "outputs": [],
   "source": [
    "##gradient_grid = GridSearchCV(param_grid=params,estimator= GradientBoostingRegressor(),n_jobs = -1, cv = 5)\n",
    "#gradient_grid.fit(X_train,y_train)\n",
    "#y_pred = gradient_grid.predict(X_test)\n",
    "#score = MSE(y_test,y_pred)\n",
    "#print(score,gradient_grid.best_params_)"
   ]
  },
  {
   "cell_type": "code",
   "execution_count": 37,
   "metadata": {},
   "outputs": [],
   "source": [
    "#from sklearn.svm import SVR\n",
    "#svm = SVR()\n",
    "#parameters = {'C':[0.1, 1, 10], 'gamma':[0.00001, 0.0001, 0.001, 0.01, 0.1]}\n",
    "#searcher = GridSearchCV(svm, param_grid=parameters)\n",
    "#searcher.fit(X_train,y_train)\n"
   ]
  },
  {
   "cell_type": "code",
   "execution_count": 38,
   "metadata": {},
   "outputs": [
    {
     "data": {
      "text/plain": [
       "10.914469884475011"
      ]
     },
     "execution_count": 38,
     "metadata": {},
     "output_type": "execute_result"
    }
   ],
   "source": [
    "#Using SVM\n",
    "from sklearn.svm import SVR\n",
    "svm = SVR(C = 10, gamma = 0.1)\n",
    "svm.fit(X_train,y_train)\n",
    "y_pred = svm.predict(X_test)\n",
    "socre = MSE(y_test,y_pred)\n",
    "socre"
   ]
  },
  {
   "cell_type": "code",
   "execution_count": 39,
   "metadata": {},
   "outputs": [
    {
     "name": "stderr",
     "output_type": "stream",
     "text": [
      "C:\\Users\\user\\AppData\\Roaming\\Python\\Python37\\site-packages\\statsmodels\\compat\\pandas.py:23: FutureWarning: The Panel class is removed from pandas. Accessing it from the top-level namespace will also be removed in the next version\n",
      "  data_klasses = (pandas.Series, pandas.DataFrame, pandas.Panel)\n"
     ]
    },
    {
     "name": "stdout",
     "output_type": "stream",
     "text": [
      "                                 OLS Regression Results                                \n",
      "=======================================================================================\n",
      "Dep. Variable:                  price   R-squared (uncentered):                   0.860\n",
      "Model:                            OLS   Adj. R-squared (uncentered):              0.860\n",
      "Method:                 Least Squares   F-statistic:                          5.889e+04\n",
      "Date:                Mon, 30 Mar 2020   Prob (F-statistic):                        0.00\n",
      "Time:                        04:02:33   Log-Likelihood:                     -2.9190e+05\n",
      "No. Observations:               76528   AIC:                                  5.838e+05\n",
      "Df Residuals:                   76520   BIC:                                  5.839e+05\n",
      "Df Model:                           8                                                  \n",
      "Covariance Type:            nonrobust                                                  \n",
      "=====================================================================================\n",
      "                        coef    std err          t      P>|t|      [0.025      0.975]\n",
      "-------------------------------------------------------------------------------------\n",
      "std_tripdistance      0.8162      0.040     20.158      0.000       0.737       0.896\n",
      "std_meanpricedepd     1.0622      0.042     25.393      0.000       0.980       1.144\n",
      "log_pageview         -0.1542      0.040     -3.867      0.000      -0.232      -0.076\n",
      "log_nbevaluation     -2.5291      0.040    -62.924      0.000      -2.608      -2.450\n",
      "std_age               0.5047      0.040     12.504      0.000       0.426       0.584\n",
      "std_minpricedepd     -0.0873      0.041     -2.105      0.035      -0.169      -0.006\n",
      "seatsincar            2.6736      0.020    134.986      0.000       2.635       2.712\n",
      "carrating             8.0650      0.022    363.751      0.000       8.022       8.108\n",
      "==============================================================================\n",
      "Omnibus:                     8782.296   Durbin-Watson:                   1.769\n",
      "Prob(Omnibus):                  0.000   Jarque-Bera (JB):            35013.986\n",
      "Skew:                           0.528   Prob(JB):                         0.00\n",
      "Kurtosis:                       6.141   Cond. No.                         4.40\n",
      "==============================================================================\n",
      "\n",
      "Warnings:\n",
      "[1] Standard Errors assume that the covariance matrix of the errors is correctly specified.\n"
     ]
    }
   ],
   "source": [
    "#Using ols for causal inference\n",
    "import statsmodels.api as sm\n",
    "X_ttrain = sm.add_constant(X_train) # adding a constant\n",
    " \n",
    "model = sm.OLS(y_train, X_train).fit()\n",
    "print(model.summary())"
   ]
  },
  {
   "cell_type": "code",
   "execution_count": 40,
   "metadata": {},
   "outputs": [
    {
     "data": {
      "text/plain": [
       "117.8962028668481"
      ]
     },
     "execution_count": 40,
     "metadata": {},
     "output_type": "execute_result"
    }
   ],
   "source": [
    "y_pred = model.predict(X_test)\n",
    "socre = MSE(y_test,y_pred)\n",
    "socre\n"
   ]
  },
  {
   "cell_type": "code",
   "execution_count": 41,
   "metadata": {},
   "outputs": [],
   "source": [
    "#Using voting method\n",
    "classification = [('ada',ada),('sgbr',sgbr),('svm',svm)]"
   ]
  },
  {
   "cell_type": "code",
   "execution_count": 42,
   "metadata": {},
   "outputs": [
    {
     "name": "stdout",
     "output_type": "stream",
     "text": [
      "10.086072571308364\n"
     ]
    }
   ],
   "source": [
    "from sklearn.ensemble import VotingRegressor\n",
    "vc = VotingRegressor(estimators=classification,n_jobs = -1)\n",
    "vc.fit(X_train,y_train)\n",
    "y_pred = vc.predict(X_test)\n",
    "score = MSE(y_test,y_pred)\n",
    "print(score)"
   ]
  },
  {
   "cell_type": "code",
   "execution_count": null,
   "metadata": {},
   "outputs": [],
   "source": []
  },
  {
   "cell_type": "code",
   "execution_count": null,
   "metadata": {},
   "outputs": [],
   "source": []
  },
  {
   "cell_type": "code",
   "execution_count": null,
   "metadata": {},
   "outputs": [],
   "source": []
  },
  {
   "cell_type": "code",
   "execution_count": null,
   "metadata": {},
   "outputs": [],
   "source": []
  },
  {
   "cell_type": "code",
   "execution_count": null,
   "metadata": {},
   "outputs": [],
   "source": []
  }
 ],
 "metadata": {
  "kernelspec": {
   "display_name": "Python 3.9.12 ('base')",
   "language": "python",
   "name": "python3"
  },
  "language_info": {
   "codemirror_mode": {
    "name": "ipython",
    "version": 3
   },
   "file_extension": ".py",
   "mimetype": "text/x-python",
   "name": "python",
   "nbconvert_exporter": "python",
   "pygments_lexer": "ipython3",
   "version": "3.9.12"
  },
  "vscode": {
   "interpreter": {
    "hash": "f2885c5b779860817c17e1d141d5ef713701cda335f2e4b6ee17df3b314707f3"
   }
  }
 },
 "nbformat": 4,
 "nbformat_minor": 2
}
