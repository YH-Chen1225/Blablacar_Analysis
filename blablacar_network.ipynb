{
 "cells": [
  {
   "cell_type": "markdown",
   "metadata": {},
   "source": [
    "This part is mainly for neural netword analysis, and it's the continuous of previous blabla car_coding"
   ]
  },
  {
   "cell_type": "code",
   "execution_count": null,
   "metadata": {},
   "outputs": [],
   "source": [
    "import pandas as pd\n",
    "df = pd.read_excel('C:\\\\Users\\\\user\\\\Downloads\\\\Blablacar data_Paris-Lyon_individual projects.xlsx')"
   ]
  },
  {
   "cell_type": "code",
   "execution_count": 52,
   "metadata": {},
   "outputs": [],
   "source": [
    "df = pd.get_dummies(df, columns = ['departure'],prefix = 'depart_lyon')"
   ]
  },
  {
   "cell_type": "code",
   "execution_count": 53,
   "metadata": {},
   "outputs": [
    {
     "data": {
      "text/plain": [
       "Index(['driverid', 'offerid', 'arrival', 'tripdistance', 'offer date',\n",
       "       'departure date', 'price', 'nboffers', 'photo', 'driverstatus', 'music',\n",
       "       'talk', 'pet', 'smoking', 'manualreservation', 'roundtrip', 'carrating',\n",
       "       'detourtime', 'pageview', 'maxpricedepd', 'minpricedepd',\n",
       "       'meanpricedepd', 'sdpricedepd', 'seatsincar', 'seatsold', 'firstname',\n",
       "       'driver country', 'nbevaluation', 'age', 'gender', 'depart_lyon_Lyon',\n",
       "       'depart_lyon_Paris'],\n",
       "      dtype='object')"
      ]
     },
     "execution_count": 53,
     "metadata": {},
     "output_type": "execute_result"
    }
   ],
   "source": [
    "df.columns"
   ]
  },
  {
   "cell_type": "code",
   "execution_count": 83,
   "metadata": {},
   "outputs": [],
   "source": [
    "df = df[['tripdistance','price', 'nboffers', 'photo', 'driverstatus', 'music', 'talk', 'pet','smoking', 'manualreservation', 'roundtrip','carrating', 'detourtime',\n",
    "       'pageview', 'maxpricedepd', 'minpricedepd', 'meanpricedepd',\n",
    "       'seatsincar', 'seatsold',\n",
    "       'nbevaluation', 'age', 'gender', 'depart_lyon_Lyon']]"
   ]
  },
  {
   "cell_type": "code",
   "execution_count": 84,
   "metadata": {},
   "outputs": [],
   "source": [
    "import keras\n",
    "from keras.layers import Dense\n",
    "from keras.models import Sequential"
   ]
  },
  {
   "cell_type": "code",
   "execution_count": 85,
   "metadata": {},
   "outputs": [
    {
     "data": {
      "text/plain": [
       "array([25, 30, 30, ..., 30, 25, 38], dtype=int64)"
      ]
     },
     "execution_count": 85,
     "metadata": {},
     "output_type": "execute_result"
    }
   ],
   "source": [
    "import numpy as np\n",
    "import pandas as pd\n",
    "predictors = df.drop(['price'], axis=1).values\n",
    "predictors\n",
    "price = df.price.values\n",
    "price"
   ]
  },
  {
   "cell_type": "code",
   "execution_count": 86,
   "metadata": {},
   "outputs": [
    {
     "data": {
      "text/html": [
       "<div>\n",
       "<style scoped>\n",
       "    .dataframe tbody tr th:only-of-type {\n",
       "        vertical-align: middle;\n",
       "    }\n",
       "\n",
       "    .dataframe tbody tr th {\n",
       "        vertical-align: top;\n",
       "    }\n",
       "\n",
       "    .dataframe thead th {\n",
       "        text-align: right;\n",
       "    }\n",
       "</style>\n",
       "<table border=\"1\" class=\"dataframe\">\n",
       "  <thead>\n",
       "    <tr style=\"text-align: right;\">\n",
       "      <th></th>\n",
       "      <th>tripdistance</th>\n",
       "      <th>price</th>\n",
       "      <th>nboffers</th>\n",
       "      <th>photo</th>\n",
       "      <th>driverstatus</th>\n",
       "      <th>music</th>\n",
       "      <th>talk</th>\n",
       "      <th>pet</th>\n",
       "      <th>smoking</th>\n",
       "      <th>manualreservation</th>\n",
       "      <th>roundtrip</th>\n",
       "      <th>carrating</th>\n",
       "      <th>detourtime</th>\n",
       "      <th>pageview</th>\n",
       "      <th>maxpricedepd</th>\n",
       "      <th>minpricedepd</th>\n",
       "      <th>meanpricedepd</th>\n",
       "      <th>seatsincar</th>\n",
       "      <th>seatsold</th>\n",
       "      <th>nbevaluation</th>\n",
       "      <th>age</th>\n",
       "      <th>gender</th>\n",
       "      <th>depart_lyon_Lyon</th>\n",
       "    </tr>\n",
       "  </thead>\n",
       "  <tbody>\n",
       "    <tr>\n",
       "      <th>0</th>\n",
       "      <td>462</td>\n",
       "      <td>25</td>\n",
       "      <td>629</td>\n",
       "      <td>0</td>\n",
       "      <td>2</td>\n",
       "      <td>1</td>\n",
       "      <td>1</td>\n",
       "      <td>0</td>\n",
       "      <td>0</td>\n",
       "      <td>0</td>\n",
       "      <td>0</td>\n",
       "      <td>0</td>\n",
       "      <td>15</td>\n",
       "      <td>42</td>\n",
       "      <td>48</td>\n",
       "      <td>15</td>\n",
       "      <td>29.266666</td>\n",
       "      <td>0</td>\n",
       "      <td>0</td>\n",
       "      <td>1</td>\n",
       "      <td>28</td>\n",
       "      <td>1</td>\n",
       "      <td>0</td>\n",
       "    </tr>\n",
       "    <tr>\n",
       "      <th>1</th>\n",
       "      <td>435</td>\n",
       "      <td>30</td>\n",
       "      <td>731</td>\n",
       "      <td>0</td>\n",
       "      <td>1</td>\n",
       "      <td>1</td>\n",
       "      <td>1</td>\n",
       "      <td>0</td>\n",
       "      <td>0</td>\n",
       "      <td>0</td>\n",
       "      <td>0</td>\n",
       "      <td>4</td>\n",
       "      <td>15</td>\n",
       "      <td>62</td>\n",
       "      <td>52</td>\n",
       "      <td>19</td>\n",
       "      <td>29.657675</td>\n",
       "      <td>6</td>\n",
       "      <td>0</td>\n",
       "      <td>0</td>\n",
       "      <td>52</td>\n",
       "      <td>0</td>\n",
       "      <td>1</td>\n",
       "    </tr>\n",
       "    <tr>\n",
       "      <th>2</th>\n",
       "      <td>464</td>\n",
       "      <td>30</td>\n",
       "      <td>721</td>\n",
       "      <td>0</td>\n",
       "      <td>1</td>\n",
       "      <td>1</td>\n",
       "      <td>1</td>\n",
       "      <td>0</td>\n",
       "      <td>0</td>\n",
       "      <td>0</td>\n",
       "      <td>0</td>\n",
       "      <td>4</td>\n",
       "      <td>15</td>\n",
       "      <td>14</td>\n",
       "      <td>52</td>\n",
       "      <td>17</td>\n",
       "      <td>29.499228</td>\n",
       "      <td>6</td>\n",
       "      <td>0</td>\n",
       "      <td>0</td>\n",
       "      <td>52</td>\n",
       "      <td>0</td>\n",
       "      <td>0</td>\n",
       "    </tr>\n",
       "    <tr>\n",
       "      <th>3</th>\n",
       "      <td>511</td>\n",
       "      <td>49</td>\n",
       "      <td>801</td>\n",
       "      <td>0</td>\n",
       "      <td>1</td>\n",
       "      <td>1</td>\n",
       "      <td>1</td>\n",
       "      <td>0</td>\n",
       "      <td>0</td>\n",
       "      <td>0</td>\n",
       "      <td>0</td>\n",
       "      <td>4</td>\n",
       "      <td>15</td>\n",
       "      <td>18</td>\n",
       "      <td>49</td>\n",
       "      <td>15</td>\n",
       "      <td>29.816593</td>\n",
       "      <td>6</td>\n",
       "      <td>1</td>\n",
       "      <td>2</td>\n",
       "      <td>52</td>\n",
       "      <td>0</td>\n",
       "      <td>1</td>\n",
       "    </tr>\n",
       "    <tr>\n",
       "      <th>4</th>\n",
       "      <td>516</td>\n",
       "      <td>48</td>\n",
       "      <td>757</td>\n",
       "      <td>0</td>\n",
       "      <td>2</td>\n",
       "      <td>1</td>\n",
       "      <td>1</td>\n",
       "      <td>0</td>\n",
       "      <td>0</td>\n",
       "      <td>0</td>\n",
       "      <td>0</td>\n",
       "      <td>4</td>\n",
       "      <td>15</td>\n",
       "      <td>2</td>\n",
       "      <td>73</td>\n",
       "      <td>20</td>\n",
       "      <td>29.101709</td>\n",
       "      <td>6</td>\n",
       "      <td>2</td>\n",
       "      <td>2</td>\n",
       "      <td>52</td>\n",
       "      <td>0</td>\n",
       "      <td>1</td>\n",
       "    </tr>\n",
       "  </tbody>\n",
       "</table>\n",
       "</div>"
      ],
      "text/plain": [
       "   tripdistance  price  nboffers  photo  driverstatus  music  talk  pet  \\\n",
       "0           462     25       629      0             2      1     1    0   \n",
       "1           435     30       731      0             1      1     1    0   \n",
       "2           464     30       721      0             1      1     1    0   \n",
       "3           511     49       801      0             1      1     1    0   \n",
       "4           516     48       757      0             2      1     1    0   \n",
       "\n",
       "   smoking  manualreservation  roundtrip  carrating  detourtime  pageview  \\\n",
       "0        0                  0          0          0          15        42   \n",
       "1        0                  0          0          4          15        62   \n",
       "2        0                  0          0          4          15        14   \n",
       "3        0                  0          0          4          15        18   \n",
       "4        0                  0          0          4          15         2   \n",
       "\n",
       "   maxpricedepd  minpricedepd  meanpricedepd  seatsincar  seatsold  \\\n",
       "0            48            15      29.266666           0         0   \n",
       "1            52            19      29.657675           6         0   \n",
       "2            52            17      29.499228           6         0   \n",
       "3            49            15      29.816593           6         1   \n",
       "4            73            20      29.101709           6         2   \n",
       "\n",
       "   nbevaluation  age  gender  depart_lyon_Lyon  \n",
       "0             1   28       1                 0  \n",
       "1             0   52       0                 1  \n",
       "2             0   52       0                 0  \n",
       "3             2   52       0                 1  \n",
       "4             2   52       0                 1  "
      ]
     },
     "execution_count": 86,
     "metadata": {},
     "output_type": "execute_result"
    }
   ],
   "source": [
    "df.head()"
   ]
  },
  {
   "cell_type": "code",
   "execution_count": 87,
   "metadata": {},
   "outputs": [
    {
     "data": {
      "text/plain": [
       "tripdistance         0\n",
       "price                0\n",
       "nboffers             0\n",
       "photo                0\n",
       "driverstatus         0\n",
       "music                0\n",
       "talk                 0\n",
       "pet                  0\n",
       "smoking              0\n",
       "manualreservation    0\n",
       "roundtrip            0\n",
       "carrating            0\n",
       "detourtime           0\n",
       "pageview             0\n",
       "maxpricedepd         0\n",
       "minpricedepd         0\n",
       "meanpricedepd        0\n",
       "seatsincar           0\n",
       "seatsold             0\n",
       "nbevaluation         0\n",
       "age                  0\n",
       "gender               0\n",
       "depart_lyon_Lyon     0\n",
       "dtype: int64"
      ]
     },
     "execution_count": 87,
     "metadata": {},
     "output_type": "execute_result"
    }
   ],
   "source": [
    "df.isna().sum()"
   ]
  },
  {
   "cell_type": "code",
   "execution_count": 88,
   "metadata": {},
   "outputs": [
    {
     "data": {
      "text/plain": [
       "array([25, 30, 30, ..., 30, 25, 38], dtype=int64)"
      ]
     },
     "execution_count": 88,
     "metadata": {},
     "output_type": "execute_result"
    }
   ],
   "source": [
    "price"
   ]
  },
  {
   "cell_type": "code",
   "execution_count": 115,
   "metadata": {},
   "outputs": [],
   "source": [
    "from keras.callbacks import EarlyStopping\n",
    "n_cols = predictors.shape[1]\n",
    "model = Sequential()\n",
    "model.add(Dense(150, activation='relu', input_shape = (n_cols,)))\n",
    "model.add(Dense(100, activation='relu'))\n",
    "model.add(Dense(100, activation='relu'))\n",
    "model.add(Dense(1))\n",
    "early_stopping_monitor = EarlyStopping(patience = 3)\n",
    "model.compile(optimizer='adam', loss='mean_squared_error', metrics =['accuracy'])"
   ]
  },
  {
   "cell_type": "code",
   "execution_count": 116,
   "metadata": {},
   "outputs": [
    {
     "name": "stdout",
     "output_type": "stream",
     "text": [
      "Train on 78100 samples, validate on 19525 samples\n",
      "Epoch 1/15\n",
      "78100/78100 [==============================] - 6s 79us/step - loss: 16.4501 - accuracy: 0.1446 - val_loss: 12.9519 - val_accuracy: 0.2035\n",
      "Epoch 2/15\n",
      "78100/78100 [==============================] - 6s 74us/step - loss: 12.8090 - accuracy: 0.1555 - val_loss: 13.0590 - val_accuracy: 0.1010\n",
      "Epoch 3/15\n",
      "78100/78100 [==============================] - 6s 74us/step - loss: 12.4719 - accuracy: 0.1624 - val_loss: 12.4840 - val_accuracy: 0.1552\n",
      "Epoch 4/15\n",
      "78100/78100 [==============================] - 6s 75us/step - loss: 12.3710 - accuracy: 0.1644 - val_loss: 13.9551 - val_accuracy: 0.0822\n",
      "Epoch 5/15\n",
      "78100/78100 [==============================] - 6s 77us/step - loss: 12.1704 - accuracy: 0.1663 - val_loss: 12.3782 - val_accuracy: 0.1492\n",
      "Epoch 6/15\n",
      "78100/78100 [==============================] - 6s 77us/step - loss: 12.0029 - accuracy: 0.1661 - val_loss: 14.8317 - val_accuracy: 0.0715\n",
      "Epoch 7/15\n",
      "78100/78100 [==============================] - 6s 76us/step - loss: 11.9014 - accuracy: 0.1696 - val_loss: 12.8015 - val_accuracy: 0.1145\n",
      "Epoch 8/15\n",
      "78100/78100 [==============================] - 6s 76us/step - loss: 11.7546 - accuracy: 0.1690 - val_loss: 12.2930 - val_accuracy: 0.1542\n",
      "Epoch 9/15\n",
      "78100/78100 [==============================] - 6s 78us/step - loss: 11.7058 - accuracy: 0.1680 - val_loss: 12.1786 - val_accuracy: 0.1394\n",
      "Epoch 10/15\n",
      "78100/78100 [==============================] - 6s 76us/step - loss: 11.6205 - accuracy: 0.1703 - val_loss: 19.5397 - val_accuracy: 0.0580\n",
      "Epoch 11/15\n",
      "78100/78100 [==============================] - 6s 75us/step - loss: 11.5321 - accuracy: 0.1711 - val_loss: 13.1954 - val_accuracy: 0.2465\n",
      "Epoch 12/15\n",
      "78100/78100 [==============================] - 6s 77us/step - loss: 11.4350 - accuracy: 0.1743 - val_loss: 12.4215 - val_accuracy: 0.1153\n"
     ]
    },
    {
     "data": {
      "text/plain": [
       "<keras.callbacks.callbacks.History at 0x20b5b4e9358>"
      ]
     },
     "execution_count": 116,
     "metadata": {},
     "output_type": "execute_result"
    }
   ],
   "source": [
    "model.fit(predictors,price,epochs=15,validation_split=0.2, callbacks=[early_stopping_monitor])"
   ]
  },
  {
   "cell_type": "code",
   "execution_count": 125,
   "metadata": {},
   "outputs": [],
   "source": [
    "from keras.callbacks import EarlyStopping\n",
    "n_cols = predictors.shape[1]\n",
    "model_2 = Sequential()\n",
    "model_2.add(Dense(200, activation='relu', input_shape = (n_cols,)))\n",
    "model_2.add(Dense(200, activation='relu'))\n",
    "model_2.add(Dense(100, activation='relu'))\n",
    "model_2.add(Dense(1))\n",
    "early_stopping_monitor = EarlyStopping(patience = 3)\n",
    "model_2.compile(optimizer='adam', loss='mean_squared_error', metrics =['accuracy'])"
   ]
  },
  {
   "cell_type": "code",
   "execution_count": 126,
   "metadata": {},
   "outputs": [
    {
     "name": "stdout",
     "output_type": "stream",
     "text": [
      "Train on 78100 samples, validate on 19525 samples\n",
      "Epoch 1/15\n",
      "78100/78100 [==============================] - 8s 97us/step - loss: 22.2970 - accuracy: 0.1397 - val_loss: 14.5471 - val_accuracy: 0.0829\n",
      "Epoch 2/15\n",
      "78100/78100 [==============================] - 7s 93us/step - loss: 13.1851 - accuracy: 0.1531 - val_loss: 13.0128 - val_accuracy: 0.1235\n",
      "Epoch 3/15\n",
      "78100/78100 [==============================] - 7s 93us/step - loss: 12.6735 - accuracy: 0.1621 - val_loss: 15.3511 - val_accuracy: 0.0739\n",
      "Epoch 4/15\n",
      "78100/78100 [==============================] - 12s 149us/step - loss: 12.2910 - accuracy: 0.1658 - val_loss: 12.4828 - val_accuracy: 0.1468\n",
      "Epoch 5/15\n",
      "78100/78100 [==============================] - 15s 186us/step - loss: 12.1287 - accuracy: 0.1666 - val_loss: 12.8543 - val_accuracy: 0.1056\n",
      "Epoch 6/15\n",
      "78100/78100 [==============================] - 8s 102us/step - loss: 11.9649 - accuracy: 0.1656 - val_loss: 13.0386 - val_accuracy: 0.1255\n",
      "Epoch 7/15\n",
      "78100/78100 [==============================] - 7s 95us/step - loss: 12.0237 - accuracy: 0.1673 - val_loss: 13.2960 - val_accuracy: 0.2471\n"
     ]
    },
    {
     "data": {
      "text/plain": [
       "<keras.callbacks.callbacks.History at 0x20b5d8d7710>"
      ]
     },
     "execution_count": 126,
     "metadata": {},
     "output_type": "execute_result"
    }
   ],
   "source": [
    "model_2.fit(predictors,price,epochs = 15, validation_split = 0.2, callbacks = [early_stopping_monitor])"
   ]
  },
  {
   "cell_type": "code",
   "execution_count": 128,
   "metadata": {},
   "outputs": [
    {
     "data": {
      "image/png": "[encoded data removed]",
      "text/plain": [
       "<Figure size 432x288 with 1 Axes>"
      ]
     },
     "metadata": {
      "needs_background": "light"
     },
     "output_type": "display_data"
    }
   ],
   "source": [
    "import matplotlib.pyplot as plt\n",
    "plt.plot(model.history.history['val_loss'],'r',model_2.history.history['val_loss'],'b')\n",
    "plt.xlabel('Epochs')\n",
    "plt.ylabel('Validation score')\n",
    "plt.show()"
   ]
  },
  {
   "cell_type": "code",
   "execution_count": 117,
   "metadata": {},
   "outputs": [
    {
     "data": {
      "text/plain": [
       "array([[27.995203],\n",
       "       [28.561615],\n",
       "       [29.508394],\n",
       "       ...,\n",
       "       [27.914726],\n",
       "       [27.717625],\n",
       "       [28.817904]], dtype=float32)"
      ]
     },
     "execution_count": 117,
     "metadata": {},
     "output_type": "execute_result"
    }
   ],
   "source": [
    "model.predict(predictors)"
   ]
  }
 ],
 "metadata": {
  "kernelspec": {
   "display_name": "Python 3",
   "language": "python",
   "name": "python3"
  },
  "language_info": {
   "codemirror_mode": {
    "name": "ipython",
    "version": 3
   },
   "file_extension": ".py",
   "mimetype": "text/x-python",
   "name": "python",
   "nbconvert_exporter": "python",
   "pygments_lexer": "ipython3",
   "version": "3.7.1"
  }
 },
 "nbformat": 4,
 "nbformat_minor": 2
}
